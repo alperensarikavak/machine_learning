{
 "cells": [
  {
   "cell_type": "code",
   "execution_count": 6,
   "id": "f48b3c72-d4d7-4b33-8fdc-d980ddaf7e53",
   "metadata": {},
   "outputs": [],
   "source": [
    "import numpy as np\n",
    "import matplotlib.pyplot as plt\n",
    "import pandas as pd"
   ]
  },
  {
   "cell_type": "code",
   "execution_count": 11,
   "id": "c6b4e828-ae02-4331-b82f-562cad157753",
   "metadata": {},
   "outputs": [
    {
     "name": "stdout",
     "output_type": "stream",
     "text": [
      "              unvan  Egitim Seviyesi   maas\n",
      "0             Cayci                1   2250\n",
      "1          Sekreter                2   2500\n",
      "2  Uzman Yardimcisi                3   3000\n",
      "3             Uzman                4   4000\n",
      "4  Proje Yoneticisi                5   5500\n",
      "5               Sef                6   7500\n",
      "6             Mudur                7  10000\n",
      "7          Direktor                8  15000\n",
      "8           C-level                9  25000\n",
      "9               CEO               10  50000\n"
     ]
    }
   ],
   "source": [
    "dataset = pd.read_csv(\"maaslar.csv\")\n",
    "print(dataset)\n",
    "\n",
    "\n"
   ]
  },
  {
   "cell_type": "code",
   "execution_count": 10,
   "id": "31e596e1-bca6-4b0a-b5eb-a714419c95c1",
   "metadata": {},
   "outputs": [
    {
     "name": "stdout",
     "output_type": "stream",
     "text": [
      "   Egitim Seviyesi\n",
      "0                1\n",
      "1                2\n",
      "2                3\n",
      "3                4\n",
      "4                5\n",
      "5                6\n",
      "6                7\n",
      "7                8\n",
      "8                9\n",
      "9               10\n",
      "    maas\n",
      "0   2250\n",
      "1   2500\n",
      "2   3000\n",
      "3   4000\n",
      "4   5500\n",
      "5   7500\n",
      "6  10000\n",
      "7  15000\n",
      "8  25000\n",
      "9  50000\n"
     ]
    }
   ],
   "source": [
    "x = dataset.iloc[: , 1:2]\n",
    "y = dataset.iloc[: , 2:]\n",
    "print(x)\n",
    "print(y)\n",
    "\n",
    "X = x.values\n",
    "Y = y.values"
   ]
  },
  {
   "cell_type": "code",
   "execution_count": 14,
   "id": "886ad06f-a69c-4664-862b-e6cb0017536d",
   "metadata": {},
   "outputs": [
    {
     "data": {
      "text/plain": [
       "[<matplotlib.lines.Line2D at 0x2951ee6b100>]"
      ]
     },
     "execution_count": 14,
     "metadata": {},
     "output_type": "execute_result"
    },
    {
     "data": {
      "image/png": "[encoded data removed]",
      "text/plain": [
       "<Figure size 640x480 with 1 Axes>"
      ]
     },
     "metadata": {},
     "output_type": "display_data"
    }
   ],
   "source": [
    "from sklearn.tree import DecisionTreeRegressor\n",
    "r_dt = DecisionTreeRegressor(random_state = 0)\n",
    "r_dt.fit(X,Y)\n",
    "\n",
    "plt.scatter(X,Y,color=\"blue\")\n",
    "plt.plot(X,r_dt.predict(X),color=\"red\")\n"
   ]
  },
  {
   "cell_type": "code",
   "execution_count": 17,
   "id": "05ad67bc-0e84-4179-86b0-dc0b69d86c7c",
   "metadata": {},
   "outputs": [
    {
     "name": "stdout",
     "output_type": "stream",
     "text": [
      "[50000.]\n",
      "[2500.]\n"
     ]
    }
   ],
   "source": [
    "print(r_dt.predict([[20]]))\n",
    "print(r_dt.predict([[2.4]]))\n"
   ]
  },
  {
   "cell_type": "code",
   "execution_count": null,
   "id": "de48828f-5949-4df0-b7ca-8a128d9e21e5",
   "metadata": {},
   "outputs": [],
   "source": []
  }
 ],
 "metadata": {
  "kernelspec": {
   "display_name": "Python 3 (ipykernel)",
   "language": "python",
   "name": "python3"
  },
  "language_info": {
   "codemirror_mode": {
    "name": "ipython",
    "version": 3
   },
   "file_extension": ".py",
   "mimetype": "text/x-python",
   "name": "python",
   "nbconvert_exporter": "python",
   "pygments_lexer": "ipython3",
   "version": "3.10.11"
  }
 },
 "nbformat": 4,
 "nbformat_minor": 5
}
