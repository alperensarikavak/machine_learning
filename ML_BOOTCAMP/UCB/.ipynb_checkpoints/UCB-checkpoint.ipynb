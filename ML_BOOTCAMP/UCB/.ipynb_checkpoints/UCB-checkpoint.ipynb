{
 "cells": [
  {
   "cell_type": "code",
   "execution_count": 2,
   "id": "0c7b8334-efb0-45fd-b9e4-fa933ee84212",
   "metadata": {},
   "outputs": [],
   "source": [
    "import numpy as np\n",
    "import pandas as pd\n",
    "import matplotlib.pyplot as plt"
   ]
  },
  {
   "cell_type": "code",
   "execution_count": 3,
   "id": "3812ac38-c4ab-4aef-a04f-73d6b7d66b2f",
   "metadata": {},
   "outputs": [
    {
     "name": "stdout",
     "output_type": "stream",
     "text": [
      "      Ad 1  Ad 2  Ad 3  Ad 4  Ad 5  Ad 6  Ad 7  Ad 8  Ad 9  Ad 10\n",
      "0        1     0     0     0     1     0     0     0     1      0\n",
      "1        0     0     0     0     0     0     0     0     1      0\n",
      "2        0     0     0     0     0     0     0     0     0      0\n",
      "3        0     1     0     0     0     0     0     1     0      0\n",
      "4        0     0     0     0     0     0     0     0     0      0\n",
      "...    ...   ...   ...   ...   ...   ...   ...   ...   ...    ...\n",
      "9995     0     0     1     0     0     0     0     1     0      0\n",
      "9996     0     0     0     0     0     0     0     0     0      0\n",
      "9997     0     0     0     0     0     0     0     0     0      0\n",
      "9998     1     0     0     0     0     0     0     1     0      0\n",
      "9999     0     1     0     0     0     0     0     0     0      0\n",
      "\n",
      "[10000 rows x 10 columns]\n"
     ]
    }
   ],
   "source": [
    "dataset = pd.read_csv('dataset.csv')\n",
    "print(dataset)"
   ]
  },
  {
   "cell_type": "code",
   "execution_count": 13,
   "id": "e2f9f8bb-36ce-4a43-aa06-a72e8f5b2156",
   "metadata": {},
   "outputs": [],
   "source": [
    "import math\n",
    "\n",
    "# Total number of rounds (users)\n",
    "N = 10000\n",
    "\n",
    "# Number of ads (arms)\n",
    "d = 10\n",
    "\n",
    "# Tracking total rewards (prizes) and clicks per ad\n",
    "prizes = [0] * d      \n",
    "clicks = [0] * d      \n",
    "\n",
    "\n",
    "sum = 0\n",
    "\n",
    "# List to store which ad was selected in each round\n",
    "selected = []\n",
    "\n",
    "\n",
    "for n in range(1, N):  \n",
    "    ad = 0             \n",
    "    max_ucb = 0        \n",
    "    \n",
    "    # Loop over each ad to compute UCB\n",
    "    for i in range(0, d):\n",
    "        if clicks[i] > 0:\n",
    "            # Calculate average reward for ad i\n",
    "            average = prizes[i] / clicks[i]\n",
    "            \n",
    "            # Calculate confidence interval (delta) for ad i\n",
    "            delta = math.sqrt( (3/2) * math.log(n) / clicks[i] )\n",
    "            \n",
    "            # Compute UCB value\n",
    "            ucb = average + delta\n",
    "        else:\n",
    "            # Set very high UCB to ensure this ad is selected at least once\n",
    "            ucb = N * 200\n",
    "        \n",
    "        # Select the ad with the highest UCB\n",
    "        if max_ucb < ucb:\n",
    "            max_ucb = ucb\n",
    "            ad = i\n",
    "    \n",
    " \n",
    "    selected.append(ad)\n",
    "    \n",
    "    # Update clicks and rewards\n",
    "    clicks[ad] += 1\n",
    "    prize = dataset.values[n, ad]  \n",
    "    prizes[ad] += prize\n",
    "    sum += prize  \n"
   ]
  },
  {
   "cell_type": "code",
   "execution_count": 14,
   "id": "d8b909e3-90ff-49c3-8056-5332d35b6fe3",
   "metadata": {},
   "outputs": [
    {
     "name": "stdout",
     "output_type": "stream",
     "text": [
      "Sum of Prize\n",
      "2231\n"
     ]
    },
    {
     "data": {
      "image/png": "[encoded data removed]",
      "text/plain": [
       "<Figure size 640x480 with 1 Axes>"
      ]
     },
     "metadata": {},
     "output_type": "display_data"
    }
   ],
   "source": [
    "print('Sum of Prize')\n",
    "print(sum)\n",
    "plt.hist(selected)\n",
    "plt.show()"
   ]
  }
 ],
 "metadata": {
  "kernelspec": {
   "display_name": "Python 3 (ipykernel)",
   "language": "python",
   "name": "python3"
  },
  "language_info": {
   "codemirror_mode": {
    "name": "ipython",
    "version": 3
   },
   "file_extension": ".py",
   "mimetype": "text/x-python",
   "name": "python",
   "nbconvert_exporter": "python",
   "pygments_lexer": "ipython3",
   "version": "3.10.11"
  }
 },
 "nbformat": 4,
 "nbformat_minor": 5
}
