{
 "cells": [
  {
   "cell_type": "code",
   "execution_count": 15,
   "id": "1d7596e5-0528-444c-b266-4b0e8a2ece5f",
   "metadata": {},
   "outputs": [],
   "source": [
    "import numpy as np\n",
    "import pandas as pd\n",
    "import matplotlib.pyplot as plt"
   ]
  },
  {
   "cell_type": "code",
   "execution_count": 16,
   "id": "b0b5fe6a-49fd-4c35-8c01-6dba478587c9",
   "metadata": {},
   "outputs": [
    {
     "name": "stdout",
     "output_type": "stream",
     "text": [
      "      Ad 1  Ad 2  Ad 3  Ad 4  Ad 5  Ad 6  Ad 7  Ad 8  Ad 9  Ad 10\n",
      "0        1     0     0     0     1     0     0     0     1      0\n",
      "1        0     0     0     0     0     0     0     0     1      0\n",
      "2        0     0     0     0     0     0     0     0     0      0\n",
      "3        0     1     0     0     0     0     0     1     0      0\n",
      "4        0     0     0     0     0     0     0     0     0      0\n",
      "...    ...   ...   ...   ...   ...   ...   ...   ...   ...    ...\n",
      "9995     0     0     1     0     0     0     0     1     0      0\n",
      "9996     0     0     0     0     0     0     0     0     0      0\n",
      "9997     0     0     0     0     0     0     0     0     0      0\n",
      "9998     1     0     0     0     0     0     0     1     0      0\n",
      "9999     0     1     0     0     0     0     0     0     0      0\n",
      "\n",
      "[10000 rows x 10 columns]\n"
     ]
    }
   ],
   "source": [
    "dataset = pd.read_csv('dataset.csv')\n",
    "print(dataset)"
   ]
  },
  {
   "cell_type": "code",
   "execution_count": 17,
   "id": "ec4247db-3232-4368-8700-c6014b8e6f1e",
   "metadata": {},
   "outputs": [],
   "source": [
    "import random\n",
    "\n",
    "N = 10000  # total number of ad displays (rounds)\n",
    "d = 10     # number of ads\n",
    "\n",
    "summ = 0  # total reward\n",
    "selected = []  # list to track selected ads\n",
    "one_count = [0] * d  # number of 1 rewards per ad\n",
    "zero_count = [0] * d # number of 0 rewards per ad\n",
    "\n",
    "for n in range(1, N):\n",
    "    ad = 0\n",
    "    max_th = 0\n",
    "    \n",
    "    # Loop over each ad and sample from Beta distribution\n",
    "    for i in range(0, d):\n",
    "        # Correct Beta parameters: successes (1s) and failures (0s)\n",
    "        ranbeta = random.betavariate(one_count[i] + 1, zero_count[i] + 1)\n",
    "        if ranbeta > max_th:\n",
    "            max_th = ranbeta\n",
    "            ad = i\n",
    "\n",
    "    selected.append(ad)\n",
    "\n",
    "    # Get reward from dataset\n",
    "    prize = dataset.values[n, ad]\n",
    "    \n",
    "    # Update reward counts\n",
    "    if prize == 1:\n",
    "        one_count[ad] += 1\n",
    "    else:\n",
    "        zero_count[ad] += 1\n",
    "    \n",
    "    # Update total reward\n",
    "    summ += prize\n"
   ]
  },
  {
   "cell_type": "code",
   "execution_count": 18,
   "id": "268e8bfa-fdb3-4bfa-a3e8-4bf11e26fd70",
   "metadata": {},
   "outputs": [
    {
     "data": {
      "image/png": "[encoded data removed]",
      "text/plain": [
       "<Figure size 640x480 with 1 Axes>"
      ]
     },
     "metadata": {},
     "output_type": "display_data"
    }
   ],
   "source": [
    "import matplotlib.pyplot as plt\n",
    "\n",
    "plt.hist(selected, bins=range(11), edgecolor='black', align='left')\n",
    "plt.title(\"Ad Selections (Thompson Sampling)\")\n",
    "plt.xlabel(\"Ad Number\")\n",
    "plt.ylabel(\"Number of Selections\")\n",
    "plt.xticks(range(d))\n",
    "plt.show()\n"
   ]
  },
  {
   "cell_type": "code",
   "execution_count": 20,
   "id": "6463cefa-5f11-4752-8682-33ffe5a280b1",
   "metadata": {},
   "outputs": [
    {
     "name": "stdout",
     "output_type": "stream",
     "text": [
      "Total Prize\n",
      "2608\n"
     ]
    }
   ],
   "source": [
    "print('Total Prize')\n",
    "print(summ)"
   ]
  }
 ],
 "metadata": {
  "kernelspec": {
   "display_name": "Python 3 (ipykernel)",
   "language": "python",
   "name": "python3"
  },
  "language_info": {
   "codemirror_mode": {
    "name": "ipython",
    "version": 3
   },
   "file_extension": ".py",
   "mimetype": "text/x-python",
   "name": "python",
   "nbconvert_exporter": "python",
   "pygments_lexer": "ipython3",
   "version": "3.10.11"
  }
 },
 "nbformat": 4,
 "nbformat_minor": 5
}
