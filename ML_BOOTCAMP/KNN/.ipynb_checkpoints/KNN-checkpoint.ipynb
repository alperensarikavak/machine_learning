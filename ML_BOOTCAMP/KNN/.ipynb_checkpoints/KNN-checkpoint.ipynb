{
 "cells": [
  {
   "cell_type": "code",
   "execution_count": 1,
   "id": "a11c0128-4156-4607-ae29-9be189973dd3",
   "metadata": {},
   "outputs": [],
   "source": [
    "import numpy as np\n",
    "import matplotlib.pyplot as plt\n",
    "import pandas as pd"
   ]
  },
  {
   "cell_type": "code",
   "execution_count": 2,
   "id": "ebba4abb-0844-4146-8f75-c1776627f828",
   "metadata": {},
   "outputs": [
    {
     "name": "stdout",
     "output_type": "stream",
     "text": [
      "   ulke  boy  kilo  yas cinsiyet\n",
      "0    tr  130    30   10        e\n",
      "1    tr  125    36   11        e\n",
      "2    tr  135    34   10        k\n",
      "3    tr  133    30    9        k\n",
      "4    tr  129    38   12        e\n",
      "5    tr  180    90   30        e\n",
      "6    tr  190    80   25        e\n",
      "7    tr  175    90   35        e\n",
      "8    tr  177    60   22        k\n",
      "9    us  185   105   33        e\n",
      "10   us  165    55   27        k\n",
      "11   us  155    50   44        k\n",
      "12   us  160    58   39        k\n",
      "13   us  162    59   41        k\n",
      "14   us  167    62   55        k\n",
      "15   fr  174    70   47        e\n",
      "16   fr  193    90   23        e\n",
      "17   fr  187    80   27        e\n",
      "18   fr  183    88   28        e\n",
      "19   fr  159    40   29        k\n",
      "20   fr  164    66   32        k\n",
      "21   fr  166    56   42        k\n"
     ]
    }
   ],
   "source": [
    "dataset = pd.read_csv(\"dataset.csv\")\n",
    "print(dataset)"
   ]
  },
  {
   "cell_type": "code",
   "execution_count": 3,
   "id": "25c0472e-7701-48d7-b2ad-55b25e84615a",
   "metadata": {},
   "outputs": [
    {
     "name": "stdout",
     "output_type": "stream",
     "text": [
      "    boy  kilo  yas\n",
      "0   130    30   10\n",
      "1   125    36   11\n",
      "2   135    34   10\n",
      "3   133    30    9\n",
      "4   129    38   12\n",
      "5   180    90   30\n",
      "6   190    80   25\n",
      "7   175    90   35\n",
      "8   177    60   22\n",
      "9   185   105   33\n",
      "10  165    55   27\n",
      "11  155    50   44\n",
      "12  160    58   39\n",
      "13  162    59   41\n",
      "14  167    62   55\n",
      "15  174    70   47\n",
      "16  193    90   23\n",
      "17  187    80   27\n",
      "18  183    88   28\n",
      "19  159    40   29\n",
      "20  164    66   32\n",
      "21  166    56   42\n",
      "   cinsiyet\n",
      "0         e\n",
      "1         e\n",
      "2         k\n",
      "3         k\n",
      "4         e\n",
      "5         e\n",
      "6         e\n",
      "7         e\n",
      "8         k\n",
      "9         e\n",
      "10        k\n",
      "11        k\n",
      "12        k\n",
      "13        k\n",
      "14        k\n",
      "15        e\n",
      "16        e\n",
      "17        e\n",
      "18        e\n",
      "19        k\n",
      "20        k\n",
      "21        k\n"
     ]
    }
   ],
   "source": [
    "x = dataset.iloc[: , 1:4]\n",
    "y = dataset.iloc[: , 4:]\n",
    "print(x)\n",
    "print(y)"
   ]
  },
  {
   "cell_type": "code",
   "execution_count": 4,
   "id": "0621442c-32fa-4dcc-958c-cb37acdcbe49",
   "metadata": {},
   "outputs": [],
   "source": [
    "from sklearn.model_selection import train_test_split\n",
    "\n",
    "x_train,x_test,y_train,y_test = train_test_split(x,y,test_size = 0.33, random_state = 1)"
   ]
  },
  {
   "cell_type": "code",
   "execution_count": 5,
   "id": "9f043b9c-f3aa-4501-a97b-1bb7a5c6271e",
   "metadata": {},
   "outputs": [],
   "source": [
    "from sklearn.preprocessing import StandardScaler\n",
    "\n",
    "sc=StandardScaler()\n",
    "\n",
    "X_train = sc.fit_transform(x_train)\n",
    "X_test = sc.transform(x_test)"
   ]
  },
  {
   "cell_type": "code",
   "execution_count": 8,
   "id": "de71a9ce-c70c-4689-8583-6b5adb084b4e",
   "metadata": {},
   "outputs": [
    {
     "ename": "ImportError",
     "evalue": "cannot import name 'KNeigborsClassifier' from 'sklearn.neighbors' (C:\\Users\\alper\\AppData\\Local\\Programs\\Python\\Python310\\lib\\site-packages\\sklearn\\neighbors\\__init__.py)",
     "output_type": "error",
     "traceback": [
      "\u001b[1;31m---------------------------------------------------------------------------\u001b[0m",
      "\u001b[1;31mImportError\u001b[0m                               Traceback (most recent call last)",
      "Cell \u001b[1;32mIn[8], line 1\u001b[0m\n\u001b[1;32m----> 1\u001b[0m \u001b[38;5;28;01mfrom\u001b[39;00m\u001b[38;5;250m \u001b[39m\u001b[38;5;21;01msklearn\u001b[39;00m\u001b[38;5;21;01m.\u001b[39;00m\u001b[38;5;21;01mneighbors\u001b[39;00m\u001b[38;5;250m \u001b[39m\u001b[38;5;28;01mimport\u001b[39;00m KNeigborsClassifier\n\u001b[0;32m      2\u001b[0m knn \u001b[38;5;241m=\u001b[39m KNeighborsClassifier(n_neighbors \u001b[38;5;241m=\u001b[39m \u001b[38;5;241m5\u001b[39m, metric \u001b[38;5;241m=\u001b[39m \u001b[38;5;124m'\u001b[39m\u001b[38;5;124mminkowski\u001b[39m\u001b[38;5;124m'\u001b[39m)\n\u001b[0;32m      3\u001b[0m knn\u001b[38;5;241m.\u001b[39mfit(X_train,y_train)\n",
      "\u001b[1;31mImportError\u001b[0m: cannot import name 'KNeigborsClassifier' from 'sklearn.neighbors' (C:\\Users\\alper\\AppData\\Local\\Programs\\Python\\Python310\\lib\\site-packages\\sklearn\\neighbors\\__init__.py)"
     ]
    }
   ],
   "source": [
    "from sklearn.neighbors import KNeigborsClassifier\n",
    "knn = KNeighborsClassifier(n_neighbors = 5, metric = 'minkowski')\n",
    "knn.fit(X_train,y_train)\n",
    "\n",
    "y_pred = knn.predict(X_test)\n"
   ]
  },
  {
   "cell_type": "code",
   "execution_count": null,
   "id": "c85046e7-f686-4017-a32f-e4c4772a5ca6",
   "metadata": {},
   "outputs": [],
   "source": []
  }
 ],
 "metadata": {
  "kernelspec": {
   "display_name": "Python 3 (ipykernel)",
   "language": "python",
   "name": "python3"
  },
  "language_info": {
   "codemirror_mode": {
    "name": "ipython",
    "version": 3
   },
   "file_extension": ".py",
   "mimetype": "text/x-python",
   "name": "python",
   "nbconvert_exporter": "python",
   "pygments_lexer": "ipython3",
   "version": "3.10.11"
  }
 },
 "nbformat": 4,
 "nbformat_minor": 5
}
