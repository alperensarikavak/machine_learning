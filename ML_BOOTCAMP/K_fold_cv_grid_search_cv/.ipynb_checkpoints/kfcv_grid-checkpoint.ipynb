{
 "cells": [
  {
   "cell_type": "code",
   "execution_count": 1,
   "id": "f6bc73ac-73d7-4264-a487-18fd6013129c",
   "metadata": {},
   "outputs": [],
   "source": [
    "import numpy as np\n",
    "import matplotlib.pyplot as plt\n",
    "import pandas as pd"
   ]
  },
  {
   "cell_type": "code",
   "execution_count": 2,
   "id": "9aefe94e-0fdb-4eae-82a6-c5893bef02a8",
   "metadata": {},
   "outputs": [],
   "source": [
    "dataset = pd.read_csv('Social_Network_Ads.csv')\n",
    "X = dataset.iloc[:, [2, 3]].values\n",
    "y = dataset.iloc[:, 4].values"
   ]
  },
  {
   "cell_type": "code",
   "execution_count": 3,
   "id": "6520be8e-2d34-4bed-984d-6eac77a40536",
   "metadata": {},
   "outputs": [],
   "source": [
    "from sklearn.model_selection import train_test_split\n",
    "X_train, X_test, y_train, y_test = train_test_split(X, y, test_size = 0.25, random_state = 0)\n"
   ]
  },
  {
   "cell_type": "code",
   "execution_count": 4,
   "id": "e2a143ef-7a43-48cf-9628-894500d21df8",
   "metadata": {},
   "outputs": [],
   "source": [
    "from sklearn.preprocessing import StandardScaler\n",
    "sc = StandardScaler()\n",
    "X_train = sc.fit_transform(X_train)\n",
    "X_test = sc.transform(X_test)"
   ]
  },
  {
   "cell_type": "code",
   "execution_count": 6,
   "id": "e3ac3138-9c93-4992-b342-84f56bff6f2b",
   "metadata": {},
   "outputs": [],
   "source": [
    "from sklearn.svm import SVC\n",
    "svc = SVC(kernel = 'rbf', random_state = 20)\n",
    "svc.fit(X_train, y_train)\n",
    "\n",
    "y_pred = svc.predict(X_test)"
   ]
  },
  {
   "cell_type": "code",
   "execution_count": 7,
   "id": "6786428a-7570-41af-87eb-160c3fb483c5",
   "metadata": {},
   "outputs": [
    {
     "name": "stdout",
     "output_type": "stream",
     "text": [
      "[[64  4]\n",
      " [ 3 29]]\n"
     ]
    }
   ],
   "source": [
    "from sklearn.metrics import confusion_matrix\n",
    "cm = confusion_matrix(y_test, y_pred)\n",
    "print(cm)"
   ]
  },
  {
   "cell_type": "code",
   "execution_count": 8,
   "id": "7bcc1bb8-13a5-433d-a96a-db1d05fce436",
   "metadata": {},
   "outputs": [
    {
     "name": "stdout",
     "output_type": "stream",
     "text": [
      "0.8999999999999999\n",
      "0.03590109871423001\n"
     ]
    }
   ],
   "source": [
    "from sklearn.model_selection import cross_val_score\n",
    "\n",
    "cvs = cross_val_score(estimator = svc, X=X_train, y=y_train , cv = 4)\n",
    "print(cvs.mean())  \n",
    "print(cvs.std())   "
   ]
  },
  {
   "cell_type": "code",
   "execution_count": 9,
   "id": "c2bc7ba0-4e4d-47db-ac19-e7b8227bf20b",
   "metadata": {},
   "outputs": [],
   "source": [
    "from sklearn.ensemble import RandomForestClassifier\n",
    "rfc = RandomForestClassifier(n_estimators = 10 , criterion = 'entropy')\n",
    "rfc.fit(X_train,y_train)\n",
    "\n",
    "y_pred2 = rfc.predict(X_test)"
   ]
  },
  {
   "cell_type": "code",
   "execution_count": 10,
   "id": "ec6f4af6-dbcd-40d3-a962-a0238f06079b",
   "metadata": {},
   "outputs": [
    {
     "name": "stdout",
     "output_type": "stream",
     "text": [
      "[[62  6]\n",
      " [ 4 28]]\n"
     ]
    }
   ],
   "source": [
    "from sklearn.metrics import confusion_matrix\n",
    "cm = confusion_matrix(y_test, y_pred2)\n",
    "print(cm)"
   ]
  },
  {
   "cell_type": "code",
   "execution_count": 11,
   "id": "d8973b26-c264-4eb7-8d58-27adaf964273",
   "metadata": {},
   "outputs": [
    {
     "name": "stdout",
     "output_type": "stream",
     "text": [
      "0.8733333333333333\n",
      "0.038297084310253526\n"
     ]
    }
   ],
   "source": [
    "cvs2 = cross_val_score(estimator = rfc, X=X_train, y=y_train , cv = 4)\n",
    "print(cvs2.mean())  \n",
    "print(cvs2.std())   "
   ]
  },
  {
   "cell_type": "code",
   "execution_count": 12,
   "id": "78f1cdac-b81b-4313-b615-98fcba1ab0ef",
   "metadata": {},
   "outputs": [],
   "source": [
    "from sklearn.tree import DecisionTreeClassifier\n",
    "dtc = DecisionTreeClassifier(criterion = \"entropy\")\n",
    "dtc.fit(X_train,y_train)\n",
    "\n",
    "y_pred3 = dtc.predict(X_test)"
   ]
  },
  {
   "cell_type": "code",
   "execution_count": 13,
   "id": "3962f9f1-3bb2-41cb-9b6e-57593289b64f",
   "metadata": {},
   "outputs": [
    {
     "name": "stdout",
     "output_type": "stream",
     "text": [
      "[[62  6]\n",
      " [ 3 29]]\n"
     ]
    }
   ],
   "source": [
    "from sklearn.metrics import confusion_matrix\n",
    "cm = confusion_matrix(y_test, y_pred3)\n",
    "print(cm)"
   ]
  },
  {
   "cell_type": "code",
   "execution_count": 14,
   "id": "d6b58d9e-ab22-446a-bba8-2fad6c475bd6",
   "metadata": {},
   "outputs": [
    {
     "name": "stdout",
     "output_type": "stream",
     "text": [
      "0.84\n",
      "0.05497474167490213\n"
     ]
    }
   ],
   "source": [
    "cvs3 = cross_val_score(estimator = dtc, X=X_train, y=y_train , cv = 4)\n",
    "print(cvs3.mean())  \n",
    "print(cvs3.std())   "
   ]
  },
  {
   "cell_type": "code",
   "execution_count": 24,
   "id": "ea53a38d-2cb1-4af4-bf0c-610ea16d7ac4",
   "metadata": {},
   "outputs": [
    {
     "name": "stdout",
     "output_type": "stream",
     "text": [
      "Best Score: 0.9099999999999999\n",
      "Best Parameters: {'C': 1, 'gamma': 1, 'kernel': 'rbf'}\n"
     ]
    }
   ],
   "source": [
    "from sklearn.model_selection import GridSearchCV\n",
    "from sklearn.svm import SVC\n",
    "\n",
    "params = [\n",
    "    {'C': [1, 2, 3, 4, 5], 'kernel': ['linear'], 'gamma': [1, 0.5, 0.1, 0.01, 0.001]},\n",
    "    {'C': [1, 2, 3, 4, 5], 'kernel': ['rbf'], 'gamma': [1,0.5, 0.1, 0.01, 0.001,1.0001,0.99,0.9999999]},\n",
    "    {'C': [1, 2, 3, 4, 5], 'kernel': ['sigmoid'], 'gamma': [1, 0.5, 0.1, 0.01, 0.001]},\n",
    "    {'C': [1, 2, 3, 4, 5], 'kernel': ['poly'], 'gamma': [1, 0.5, 0.1, 0.01, 0.001]},\n",
    "    ]\n",
    "\n",
    "svc = SVC()\n",
    "\n",
    "gs = GridSearchCV(estimator=svc, \n",
    "                  param_grid=params,\n",
    "                  scoring='accuracy',\n",
    "                  cv=10,\n",
    "                  n_jobs=-1)\n",
    "\n",
    "grid_search = gs.fit(X_train, y_train)\n",
    "best_score = grid_search.best_score_\n",
    "best_params = grid_search.best_params_\n",
    "\n",
    "print(\"Best Score:\", best_score)\n",
    "print(\"Best Parameters:\", best_params)"
   ]
  },
  {
   "cell_type": "code",
   "execution_count": null,
   "id": "888d7c9c-60e0-4858-8b03-dc8257180672",
   "metadata": {},
   "outputs": [],
   "source": []
  }
 ],
 "metadata": {
  "kernelspec": {
   "display_name": "Python 3 (ipykernel)",
   "language": "python",
   "name": "python3"
  },
  "language_info": {
   "codemirror_mode": {
    "name": "ipython",
    "version": 3
   },
   "file_extension": ".py",
   "mimetype": "text/x-python",
   "name": "python",
   "nbconvert_exporter": "python",
   "pygments_lexer": "ipython3",
   "version": "3.10.11"
  }
 },
 "nbformat": 4,
 "nbformat_minor": 5
}
