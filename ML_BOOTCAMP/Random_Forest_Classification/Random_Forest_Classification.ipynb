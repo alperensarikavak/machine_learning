{
 "cells": [
  {
   "cell_type": "code",
   "execution_count": 1,
   "id": "367b3877-4413-4adb-b41f-1554696f4e6b",
   "metadata": {},
   "outputs": [],
   "source": [
    "import numpy as np\n",
    "import matplotlib.pyplot as plt\n",
    "import pandas as pd"
   ]
  },
  {
   "cell_type": "code",
   "execution_count": 2,
   "id": "5bb39db1-b867-46a9-9453-fe47da81cc5e",
   "metadata": {},
   "outputs": [
    {
     "name": "stdout",
     "output_type": "stream",
     "text": [
      "   ulke  boy  kilo  yas cinsiyet\n",
      "0    tr  130    30   10        e\n",
      "1    tr  125    36   11        e\n",
      "2    tr  135    34   10        k\n",
      "3    tr  133    30    9        k\n",
      "4    tr  129    38   12        e\n",
      "5    tr  180    90   30        e\n",
      "6    tr  190    80   25        e\n",
      "7    tr  175    90   35        e\n",
      "8    tr  177    60   22        k\n",
      "9    us  185   105   33        e\n",
      "10   us  165    55   27        k\n",
      "11   us  155    50   44        k\n",
      "12   us  160    58   39        k\n",
      "13   us  162    59   41        k\n",
      "14   us  167    62   55        k\n",
      "15   fr  174    70   47        e\n",
      "16   fr  193    90   23        e\n",
      "17   fr  187    80   27        e\n",
      "18   fr  183    88   28        e\n",
      "19   fr  159    40   29        k\n",
      "20   fr  164    66   32        k\n",
      "21   fr  166    56   42        k\n"
     ]
    }
   ],
   "source": [
    "dataset = pd.read_csv(\"dataset.csv\")\n",
    "print(dataset)"
   ]
  },
  {
   "cell_type": "code",
   "execution_count": 3,
   "id": "1156849f-10d5-48a1-baf8-427ca296ae40",
   "metadata": {},
   "outputs": [],
   "source": [
    "x = dataset.iloc[: , 1:4]\n",
    "y = dataset.iloc[: , 4:]\n"
   ]
  },
  {
   "cell_type": "code",
   "execution_count": 4,
   "id": "7b17c345-372d-4be2-b0da-79fea316dc23",
   "metadata": {},
   "outputs": [],
   "source": [
    "from sklearn.model_selection import train_test_split\n",
    "\n",
    "x_train,x_test,y_train,y_test = train_test_split(x,y,test_size = 0.33, random_state = 1)"
   ]
  },
  {
   "cell_type": "code",
   "execution_count": 5,
   "id": "09d2c0ec-3867-4fb2-b301-4036367d83ac",
   "metadata": {},
   "outputs": [],
   "source": [
    "from sklearn.preprocessing import StandardScaler\n",
    "\n",
    "sc=StandardScaler()\n",
    "\n",
    "X_train = sc.fit_transform(x_train)\n",
    "X_test = sc.transform(x_test)"
   ]
  },
  {
   "cell_type": "code",
   "execution_count": 6,
   "id": "083f0a30-40ac-4bfa-867d-e55623eca5c4",
   "metadata": {},
   "outputs": [
    {
     "name": "stderr",
     "output_type": "stream",
     "text": [
      "C:\\Users\\alper\\AppData\\Local\\Programs\\Python\\Python310\\lib\\site-packages\\sklearn\\base.py:1389: DataConversionWarning: A column-vector y was passed when a 1d array was expected. Please change the shape of y to (n_samples,), for example using ravel().\n",
      "  return fit_method(estimator, *args, **kwargs)\n"
     ]
    }
   ],
   "source": [
    "from sklearn.ensemble import RandomForestClassifier\n",
    "rfc = RandomForestClassifier(n_estimators = 10 , criterion = 'entropy')\n",
    "rfc.fit(X_train,y_train)\n",
    "\n",
    "y_pred = rfc.predict(X_test)"
   ]
  },
  {
   "cell_type": "code",
   "execution_count": 7,
   "id": "4c178107-87f7-4125-948d-691d25bfcd00",
   "metadata": {},
   "outputs": [
    {
     "name": "stdout",
     "output_type": "stream",
     "text": [
      "[[3 1]\n",
      " [0 4]]\n"
     ]
    }
   ],
   "source": [
    "from sklearn.metrics import confusion_matrix\n",
    "cm = confusion_matrix(y_test,y_pred)\n",
    "print(cm)"
   ]
  },
  {
   "cell_type": "code",
   "execution_count": 8,
   "id": "c31b5b59-594c-4244-b1fa-63e0a0d0ee9f",
   "metadata": {},
   "outputs": [
    {
     "name": "stdout",
     "output_type": "stream",
     "text": [
      "[[0.2 0.8]\n",
      " [0.8 0.2]\n",
      " [0.4 0.6]\n",
      " [0.  1. ]\n",
      " [1.  0. ]\n",
      " [0.1 0.9]\n",
      " [0.1 0.9]\n",
      " [0.9 0.1]]\n"
     ]
    }
   ],
   "source": [
    "y_proba = rfc.predict_proba(X_test)\n",
    "print(y_proba)"
   ]
  },
  {
   "cell_type": "code",
   "execution_count": 9,
   "id": "33f94e49-0cd3-4996-8ebe-bc5a3d4a6515",
   "metadata": {},
   "outputs": [
    {
     "name": "stdout",
     "output_type": "stream",
     "text": [
      "[0.   0.   0.25 0.25 1.  ]\n",
      "[0.   0.25 0.5  1.   1.  ]\n"
     ]
    }
   ],
   "source": [
    "from sklearn.metrics import roc_curve\n",
    "fpr, tpr, thresholds = roc_curve(y_test, y_proba[:, 1], pos_label='e')  \n",
    "print(tpr)\n",
    "print(fpr)"
   ]
  }
 ],
 "metadata": {
  "kernelspec": {
   "display_name": "Python 3 (ipykernel)",
   "language": "python",
   "name": "python3"
  },
  "language_info": {
   "codemirror_mode": {
    "name": "ipython",
    "version": 3
   },
   "file_extension": ".py",
   "mimetype": "text/x-python",
   "name": "python",
   "nbconvert_exporter": "python",
   "pygments_lexer": "ipython3",
   "version": "3.10.11"
  }
 },
 "nbformat": 4,
 "nbformat_minor": 5
}
