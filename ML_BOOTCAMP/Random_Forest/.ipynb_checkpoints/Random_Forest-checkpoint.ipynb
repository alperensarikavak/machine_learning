{
 "cells": [
  {
   "cell_type": "code",
   "execution_count": 1,
   "id": "55440ae2-4ab6-4803-b5cb-d54339a75053",
   "metadata": {},
   "outputs": [],
   "source": [
    "import numpy as np\n",
    "import matplotlib.pyplot as plt\n",
    "import pandas as pd"
   ]
  },
  {
   "cell_type": "code",
   "execution_count": 2,
   "id": "b9640d70-cdf6-44e3-bc64-0d43314c4bb8",
   "metadata": {},
   "outputs": [
    {
     "name": "stdout",
     "output_type": "stream",
     "text": [
      "              unvan  Egitim Seviyesi   maas\n",
      "0             Cayci                1   2250\n",
      "1          Sekreter                2   2500\n",
      "2  Uzman Yardimcisi                3   3000\n",
      "3             Uzman                4   4000\n",
      "4  Proje Yoneticisi                5   5500\n",
      "5               Sef                6   7500\n",
      "6             Mudur                7  10000\n",
      "7          Direktor                8  15000\n",
      "8           C-level                9  25000\n",
      "9               CEO               10  50000\n"
     ]
    }
   ],
   "source": [
    "dataset = pd.read_csv(\"maaslar.csv\")\n",
    "print(dataset)"
   ]
  },
  {
   "cell_type": "code",
   "execution_count": 3,
   "id": "d3bb9e6a-c6ac-4e37-ab71-feee82af2791",
   "metadata": {},
   "outputs": [
    {
     "name": "stdout",
     "output_type": "stream",
     "text": [
      "   Egitim Seviyesi\n",
      "0                1\n",
      "1                2\n",
      "2                3\n",
      "3                4\n",
      "4                5\n",
      "5                6\n",
      "6                7\n",
      "7                8\n",
      "8                9\n",
      "9               10\n",
      "    maas\n",
      "0   2250\n",
      "1   2500\n",
      "2   3000\n",
      "3   4000\n",
      "4   5500\n",
      "5   7500\n",
      "6  10000\n",
      "7  15000\n",
      "8  25000\n",
      "9  50000\n"
     ]
    }
   ],
   "source": [
    "x = dataset.iloc[: , 1:2]\n",
    "y = dataset.iloc[: , 2:]\n",
    "print(x)\n",
    "print(y)\n",
    "\n",
    "X = x.values\n",
    "Y = y.values\n"
   ]
  },
  {
   "cell_type": "code",
   "execution_count": 14,
   "id": "d22d8780-2ff2-4518-b9a6-02c099a59325",
   "metadata": {},
   "outputs": [
    {
     "data": {
      "text/plain": [
       "[<matplotlib.lines.Line2D at 0x27dc4c77490>]"
      ]
     },
     "execution_count": 14,
     "metadata": {},
     "output_type": "execute_result"
    },
    {
     "data": {
      "image/png": "[encoded data removed]",
      "text/plain": [
       "<Figure size 640x480 with 1 Axes>"
      ]
     },
     "metadata": {},
     "output_type": "display_data"
    }
   ],
   "source": [
    "from sklearn.ensemble import RandomForestRegressor\n",
    "rf_reg = RandomForestRegressor(n_estimators = 12, random_state = 0)\n",
    "rf_reg.fit(X,Y.ravel())\n",
    "\n",
    "plt.scatter(X,Y,color=\"red\")\n",
    "plt.plot(X,rf_reg.predict(X),color=\"black\")\n",
    "\n"
   ]
  },
  {
   "cell_type": "code",
   "execution_count": 16,
   "id": "be9464c1-658e-4e18-a330-0bae430610cd",
   "metadata": {},
   "outputs": [
    {
     "name": "stdout",
     "output_type": "stream",
     "text": [
      "[41666.66666667]\n",
      "[2500.]\n",
      "[3666.66666667]\n"
     ]
    }
   ],
   "source": [
    "print(rf_reg.predict([[11]]))\n",
    "print(rf_reg.predict([[2]]))\n",
    "print(rf_reg.predict([[4]]))"
   ]
  },
  {
   "cell_type": "code",
   "execution_count": null,
   "id": "72143d42-fa2e-42a0-9388-7783fb3e5315",
   "metadata": {},
   "outputs": [],
   "source": []
  }
 ],
 "metadata": {
  "kernelspec": {
   "display_name": "Python 3 (ipykernel)",
   "language": "python",
   "name": "python3"
  },
  "language_info": {
   "codemirror_mode": {
    "name": "ipython",
    "version": 3
   },
   "file_extension": ".py",
   "mimetype": "text/x-python",
   "name": "python",
   "nbconvert_exporter": "python",
   "pygments_lexer": "ipython3",
   "version": "3.10.11"
  }
 },
 "nbformat": 4,
 "nbformat_minor": 5
}
